{
  "nbformat": 4,
  "nbformat_minor": 0,
  "metadata": {
    "colab": {
      "name": "Aula05.ipynb",
      "provenance": [],
      "authorship_tag": "ABX9TyPidcNFxtIi3Nn8kpkjIXxi",
      "include_colab_link": true
    },
    "kernelspec": {
      "name": "python3",
      "display_name": "Python 3"
    }
  },
  "cells": [
    {
      "cell_type": "markdown",
      "metadata": {
        "id": "view-in-github",
        "colab_type": "text"
      },
      "source": [
        "<a href=\"https://colab.research.google.com/github/thiagocdn/Imersao-dados-Alura/blob/main/Aula05.ipynb\" target=\"_parent\"><img src=\"https://colab.research.google.com/assets/colab-badge.svg\" alt=\"Open In Colab\"/></a>"
      ]
    },
    {
      "cell_type": "code",
      "metadata": {
        "id": "KoIiAEMTGdr0"
      },
      "source": [
        "import pandas as pd\n",
        "import matplotlib.pyplot as plt\n",
        "import seaborn as sns\n",
        "\n",
        "dados = pd.read_csv('https://raw.githubusercontent.com/alura-cursos/imersao-dados-2-2020/master/MICRODADOS_ENEM_2019_SAMPLE_43278.csv')\n",
        "\n",
        "provas = [\"NU_NOTA_CN\", \"NU_NOTA_CH\", \"NU_NOTA_MT\", \"NU_NOTA_LC\", \"NU_NOTA_REDACAO\"]\n",
        "dados[\"NU_NOTA_TOTAL\"] = dados[provas].sum(axis=1)\n",
        "provas = [\"NU_NOTA_CN\", \"NU_NOTA_CH\", \"NU_NOTA_MT\", \"NU_NOTA_LC\", \"NU_NOTA_REDACAO\", \"NU_NOTA_TOTAL\"]\n",
        "dados_sem_nota_zero = dados.query(\"NU_NOTA_TOTAL != 0\")"
      ],
      "execution_count": 12,
      "outputs": []
    },
    {
      "cell_type": "code",
      "metadata": {
        "id": "1TOJYgosGlr1"
      },
      "source": [
        "provas_entrada = [\"NU_NOTA_CH\", \"NU_NOTA_LC\", \"NU_NOTA_CN\", \"NU_NOTA_REDACAO\"]\n",
        "prova_saida = \"NU_NOTA_MT\"\n",
        "dados_sem_nota_zero = dados_sem_nota_zero[provas].dropna()\n",
        "\n",
        "notas_entrada = dados_sem_nota_zero[provas_entrada]\n",
        "notas_saida = dados_sem_nota_zero[prova_saida]\n",
        "X = notas_entrada\n",
        "y = notas_saida"
      ],
      "execution_count": 13,
      "outputs": []
    },
    {
      "cell_type": "code",
      "metadata": {
        "id": "0S0Z_N75GoTW"
      },
      "source": [
        "from sklearn.model_selection import train_test_split\n",
        "SEED = 4321\n",
        "\n",
        "X_train, X_test, y_train, y_test = train_test_split(X, y, test_size=0.25, random_state=SEED)"
      ],
      "execution_count": 14,
      "outputs": []
    },
    {
      "cell_type": "code",
      "metadata": {
        "id": "ddrqyWgMGsAO",
        "outputId": "ce49d24e-8d5b-4e68-89c4-0e21cdefdd17",
        "colab": {
          "base_uri": "https://localhost:8080/",
          "height": 66
        }
      },
      "source": [
        "from sklearn.svm import LinearSVR\n",
        "from sklearn.metrics import mean_squared_error\n",
        "\n",
        "modelo = LinearSVR()\n",
        "modelo.fit(X_train, y_train)\n",
        "predicoes_mt = modelo.predict(X_test)\n",
        "mean_squared_error(y_test, predicoes_mt)"
      ],
      "execution_count": 15,
      "outputs": [
        {
          "output_type": "stream",
          "text": [
            "/usr/local/lib/python3.6/dist-packages/sklearn/svm/_base.py:947: ConvergenceWarning: Liblinear failed to converge, increase the number of iterations.\n",
            "  \"the number of iterations.\", ConvergenceWarning)\n"
          ],
          "name": "stderr"
        },
        {
          "output_type": "execute_result",
          "data": {
            "text/plain": [
              "14422.070454402663"
            ]
          },
          "metadata": {
            "tags": []
          },
          "execution_count": 15
        }
      ]
    },
    {
      "cell_type": "code",
      "metadata": {
        "id": "RYZzWNXjHCVy",
        "outputId": "1bd7330c-e2b6-4781-bd82-f012ff3e6ec4",
        "colab": {
          "base_uri": "https://localhost:8080/",
          "height": 33
        }
      },
      "source": [
        "from sklearn.tree import DecisionTreeRegressor\n",
        "\n",
        "X_train, X_test, y_train, y_test = train_test_split(X, y, test_size=0.25)\n",
        "modelo_arvore = DecisionTreeRegressor(max_depth=3)\n",
        "modelo_arvore.fit(X_train, y_train)\n",
        "predicoes_arvore = modelo_arvore.predict(X_test)\n",
        "\n",
        "mean_squared_error(y_test, predicoes_arvore)"
      ],
      "execution_count": 16,
      "outputs": [
        {
          "output_type": "execute_result",
          "data": {
            "text/plain": [
              "5971.573723737036"
            ]
          },
          "metadata": {
            "tags": []
          },
          "execution_count": 16
        }
      ]
    },
    {
      "cell_type": "code",
      "metadata": {
        "id": "DYjSfmyKICs_",
        "outputId": "203a6a10-4501-46f9-afe5-cc0fd22db0dc",
        "colab": {
          "base_uri": "https://localhost:8080/",
          "height": 66
        }
      },
      "source": [
        "from sklearn.model_selection import cross_validate\n",
        "\n",
        "modelo_arvores = DecisionTreeRegressor(max_depth=2)\n",
        "resultado = cross_validate(modelo_arvores, X, y, cv=10, scoring=\"neg_mean_squared_error\")\n",
        "media = (resultado[\"test_score\"]*(-1)).mean()\n",
        "print(resultado[\"test_score\"]*(-1))\n",
        "print(media)"
      ],
      "execution_count": 17,
      "outputs": [
        {
          "output_type": "stream",
          "text": [
            "[6118.6911947  6536.09830186 6338.64260896 6456.70685686 6234.97203593\n",
            " 6794.25120283 6713.45694262 6693.04880297 6610.58461646 7085.82408339]\n",
            "6558.227664658771\n"
          ],
          "name": "stdout"
        }
      ]
    },
    {
      "cell_type": "code",
      "metadata": {
        "id": "nuh418wZddUJ",
        "outputId": "89f98c08-4470-4350-83d0-74af09e04b97",
        "colab": {
          "base_uri": "https://localhost:8080/",
          "height": 33
        }
      },
      "source": [
        "modelo_arvores = DecisionTreeRegressor(max_depth=2)\n",
        "resultado = cross_validate(modelo_arvores, X, y, cv=10, scoring=\"neg_mean_squared_error\")\n",
        "media = (resultado[\"test_score\"]*(-1)).mean()\n",
        "\n",
        "desvio_padrao = (resultado[\"test_score\"]*(-1)).std()\n",
        "\n",
        "lim_inf = media - (2*desvio_padrao)\n",
        "lim_sup = media + (2*desvio_padrao)\n",
        "\n",
        "print(f\"Intervalo de confianca {lim_inf} - {lim_sup}\")"
      ],
      "execution_count": 18,
      "outputs": [
        {
          "output_type": "stream",
          "text": [
            "Intervalo de confianca 6015.722549536815 - 7100.732779780727\n"
          ],
          "name": "stdout"
        }
      ]
    },
    {
      "cell_type": "code",
      "metadata": {
        "id": "05foq5P_lyWy"
      },
      "source": [
        "# DESAFIO 01: Pesquisar sobre intervalo de confianca\n"
      ],
      "execution_count": 19,
      "outputs": []
    },
    {
      "cell_type": "code",
      "metadata": {
        "id": "N5q2e9yKl2bq"
      },
      "source": [
        "\n",
        "def calcula_mse(resultados):\n",
        "  media = (resultado[\"test_score\"]*(-1)).mean()\n",
        "  desvio_padrao = (resultado[\"test_score\"]*(-1)).std()\n",
        "  lim_inf = media - (2*desvio_padrao)\n",
        "  lim_sup = media + (2*desvio_padrao)\n",
        "  print(f\"Intervalo de confianca {lim_inf} - {lim_sup}\")"
      ],
      "execution_count": 20,
      "outputs": []
    },
    {
      "cell_type": "code",
      "metadata": {
        "id": "wJe4NdGQmnRy",
        "outputId": "6a4dd478-e0d8-498c-c47f-e3c35a5bf6bf",
        "colab": {
          "base_uri": "https://localhost:8080/",
          "height": 33
        }
      },
      "source": [
        "from sklearn.model_selection import cross_validate, KFold\n",
        "import numpy as np\n",
        "\n",
        "SEED = 1232\n",
        "np.random.seed(SEED)\n",
        "\n",
        "partes = KFold(n_splits=10, shuffle=True )\n",
        "modelo_arvores = DecisionTreeRegressor(max_depth=2)\n",
        "resultado = cross_validate(modelo_arvores, X, y, cv=partes, scoring=\"neg_mean_squared_error\")\n",
        "calcula_mse(resultado)"
      ],
      "execution_count": 21,
      "outputs": [
        {
          "output_type": "stream",
          "text": [
            "Intervalo de confianca 6353.889489672839 - 6759.883085642473\n"
          ],
          "name": "stdout"
        }
      ]
    },
    {
      "cell_type": "code",
      "metadata": {
        "id": "8DBiRMid2swL",
        "outputId": "c90e9098-4ca2-4592-c71a-73b28c0f24b3",
        "colab": {
          "base_uri": "https://localhost:8080/",
          "height": 33
        }
      },
      "source": [
        "def regressor_arvore(nivel):\n",
        "  SEED = 1232\n",
        "  np.random.seed(SEED)\n",
        "  partes = KFold(n_splits=10, shuffle=True )\n",
        "  modelo_arvores = DecisionTreeRegressor(max_depth=nivel)\n",
        "  resultado = cross_validate(modelo_arvores, X, y, cv=partes, scoring=\"neg_mean_squared_error\", return_train_score=True)\n",
        "  print(f\"Treino = {(resultado['train_score']*-1).mean()} | Teste = {(resultado['test_score']*-1).mean()}\")\n",
        "\n",
        "regressor_arvore(4)"
      ],
      "execution_count": 27,
      "outputs": [
        {
          "output_type": "stream",
          "text": [
            "Treino = 5760.834451245899 | Teste = 5815.707286597402\n"
          ],
          "name": "stdout"
        }
      ]
    },
    {
      "cell_type": "code",
      "metadata": {
        "id": "kxHRaJqb31EZ",
        "outputId": "435e2307-457b-4c58-d4e4-f49379c11dbe",
        "colab": {
          "base_uri": "https://localhost:8080/",
          "height": 342
        }
      },
      "source": [
        "for i in range(1,21):\n",
        "  regressor_arvore(i)"
      ],
      "execution_count": 28,
      "outputs": [
        {
          "output_type": "stream",
          "text": [
            "Treino = 7844.952652412207 | Teste = 7857.871770206351\n",
            "Treino = 6527.783475408351 | Teste = 6556.886287657656\n",
            "Treino = 6021.275229419075 | Teste = 6054.767567442072\n",
            "Treino = 5760.834451245899 | Teste = 5815.707286597402\n",
            "Treino = 5598.158955426787 | Teste = 5675.196789060744\n",
            "Treino = 5469.677369145869 | Teste = 5593.304363812442\n",
            "Treino = 5369.458309852721 | Teste = 5541.646599457925\n",
            "Treino = 5276.16965707928 | Teste = 5542.053091078966\n",
            "Treino = 5166.713159932668 | Teste = 5608.390265709719\n",
            "Treino = 5022.598049115693 | Teste = 5761.4934268457555\n",
            "Treino = 4833.560706021637 | Teste = 5955.331403579403\n",
            "Treino = 4598.125022484774 | Teste = 6217.553668629227\n",
            "Treino = 4316.3791662866815 | Teste = 6521.403312280134\n",
            "Treino = 4000.6209880837496 | Teste = 6853.984106997142\n",
            "Treino = 3655.8197526274853 | Teste = 7224.863053512405\n",
            "Treino = 3295.832684540846 | Teste = 7636.168819779455\n",
            "Treino = 2931.7212612043877 | Teste = 8071.851486256819\n",
            "Treino = 2575.59534021339 | Teste = 8452.126711298857\n",
            "Treino = 2233.574203221172 | Teste = 8833.470443567128\n",
            "Treino = 1913.8727239705706 | Teste = 9137.12202398264\n"
          ],
          "name": "stdout"
        }
      ]
    },
    {
      "cell_type": "code",
      "metadata": {
        "id": "oAYSUOIQP3j0"
      },
      "source": [
        ""
      ],
      "execution_count": null,
      "outputs": []
    }
  ]
}